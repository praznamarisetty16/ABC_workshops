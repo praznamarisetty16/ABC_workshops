{
  "nbformat": 4,
  "nbformat_minor": 0,
  "metadata": {
    "colab": {
      "provenance": [],
      "mount_file_id": "1jrr-V7oM4bu2HnlBoSD_Ra8hUWiI1eXe",
      "authorship_tag": "ABX9TyMS+nVRv2wIfYu6VVmbwxeP",
      "include_colab_link": true
    },
    "kernelspec": {
      "name": "python3",
      "display_name": "Python 3"
    },
    "language_info": {
      "name": "python"
    }
  },
  "cells": [
    {
      "cell_type": "markdown",
      "metadata": {
        "id": "view-in-github",
        "colab_type": "text"
      },
      "source": [
        "<a href=\"https://colab.research.google.com/github/praznamarisetty16/ABC_workshops/blob/main/numberguessing.ipynb\" target=\"_parent\"><img src=\"https://colab.research.google.com/assets/colab-badge.svg\" alt=\"Open In Colab\"/></a>"
      ]
    },
    {
      "cell_type": "code",
      "execution_count": 2,
      "metadata": {
        "colab": {
          "base_uri": "https://localhost:8080/"
        },
        "id": "i9qfvzDAeZNn",
        "outputId": "98c7ea13-4409-4a3c-9a1f-0161535cb3e8"
      },
      "outputs": [
        {
          "output_type": "stream",
          "name": "stdout",
          "text": [
            "Hi welcome to the game, This is a number guessing game.\n",
            "You got 7 chances to guess the number. Let's start the game\n",
            "Please Enter your Guess : 1900000\n",
            "Your guess is higher \n",
            "Please Enter your Guess : 12345\n",
            "Your guess is higher \n",
            "Please Enter your Guess : -90\n",
            "Your guess is lesser\n",
            "Please Enter your Guess : 123\n",
            "Your guess is higher \n",
            "Please Enter your Guess : 100\n",
            "Your guess is higher \n",
            "Please Enter your Guess : 90\n",
            "Your guess is higher \n",
            "Please Enter your Guess : 50\n",
            "Oops sorry, The number is 33 better luck next time\n"
          ]
        }
      ],
      "source": [
        "import random\n",
        "\n",
        "print(\"Hi welcome to the game, This is a number guessing game.\\nYou got 7 chances to guess the number. Let's start the game\")\n",
        "\n",
        "number_to_guess = random.randrange(100)\n",
        "\n",
        "chances = 7\n",
        "\n",
        "guess_counter = 0\n",
        "\n",
        "while guess_counter < chances:\n",
        "\n",
        "    guess_counter += 1\n",
        "    my_guess = int(input('Please Enter your Guess : '))\n",
        "\n",
        "    if my_guess == number_to_guess:\n",
        "        print(f'The number is {number_to_guess} and you found it right !! in the {guess_counter} attempt')\n",
        "        break\n",
        "\n",
        "    elif guess_counter >= chances and my_guess != number_to_guess:\n",
        "        print(f'Oops sorry, The number is {number_to_guess} better luck next time')\n",
        "\n",
        "    elif my_guess > number_to_guess:\n",
        "        print('Your guess is higher ')\n",
        "\n",
        "    elif my_guess < number_to_guess:\n",
        "        print('Your guess is lesser')\n",
        "\n"
      ]
    }
  ]
}