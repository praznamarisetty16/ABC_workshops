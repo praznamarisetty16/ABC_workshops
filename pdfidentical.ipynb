{
  "nbformat": 4,
  "nbformat_minor": 0,
  "metadata": {
    "colab": {
      "provenance": [],
      "mount_file_id": "1lVb4ZkgKno_roaLHD9IcRBORYyQKJvoM",
      "authorship_tag": "ABX9TyPGMSWtWNyaxc1R5WlOLd3K",
      "include_colab_link": true
    },
    "kernelspec": {
      "name": "python3",
      "display_name": "Python 3"
    },
    "language_info": {
      "name": "python"
    }
  },
  "cells": [
    {
      "cell_type": "markdown",
      "metadata": {
        "id": "view-in-github",
        "colab_type": "text"
      },
      "source": [
        "<a href=\"https://colab.research.google.com/github/praznamarisetty16/ABC_workshops/blob/main/pdfidentical.ipynb\" target=\"_parent\"><img src=\"https://colab.research.google.com/assets/colab-badge.svg\" alt=\"Open In Colab\"/></a>"
      ]
    },
    {
      "cell_type": "code",
      "execution_count": null,
      "metadata": {
        "colab": {
          "base_uri": "https://localhost:8080/"
        },
        "id": "21jWyqvhPMOw",
        "outputId": "90122577-d636-411b-cbf1-2fa9d03616e6"
      },
      "outputs": [
        {
          "output_type": "stream",
          "name": "stdout",
          "text": [
            "These files are identical\n"
          ]
        }
      ],
      "source": [
        "import hashlib\n",
        "from difflib import SequenceMatcher\n",
        "\n",
        "\n",
        "def hash_file(fileName1, fileName2):\n",
        "\n",
        "\t# Use hashlib to store the hash of a file\n",
        "\th1 = hashlib.sha1()\n",
        "\th2 = hashlib.sha1()\n",
        "\n",
        "\twith open(fileName1, \"rb\") as file:\n",
        "\n",
        "\t\t# Use file.read() to read the size of file\n",
        "\t\t# and read the file in small chunks\n",
        "\t\t# because we cannot read the large files.\n",
        "\t\tchunk = 0\n",
        "\t\twhile chunk != b'':\n",
        "\t\t\tchunk = file.read(1024)\n",
        "\t\t\th1.update(chunk)\n",
        "\n",
        "\twith open(fileName2, \"rb\") as file:\n",
        "\n",
        "\t\t# Use file.read() to read the size of file a\n",
        "\t\t# and read the file in small chunks\n",
        "\t\t# because we cannot read the large files.\n",
        "\t\tchunk = 0\n",
        "\t\twhile chunk != b'':\n",
        "\t\t\tchunk = file.read(1024)\n",
        "\t\t\th2.update(chunk)\n",
        "\n",
        "\t\t# hexdigest() is of 160 bits\n",
        "\t\treturn h1.hexdigest(), h2.hexdigest()\n",
        "\n",
        "msg1, msg2 = hash_file(\"pd1.pdf\", \"pd1.pdf\")\n",
        "\n",
        "if(msg1 != msg2):\n",
        "\tprint(\"These files are not identical\")\n",
        "else:\n",
        "\tprint(\"These files are identical\")\n",
        "\n"
      ]
    }
  ]
}